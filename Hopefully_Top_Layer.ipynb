{
 "cells": [
  {
   "cell_type": "code",
   "execution_count": 1,
   "metadata": {},
   "outputs": [],
   "source": [
    "import ipynb.fs.defs.Second_Model as sm\n",
    "\n",
    "%matplotlib inline"
   ]
  },
  {
   "cell_type": "code",
   "execution_count": null,
   "metadata": {
    "scrolled": true
   },
   "outputs": [],
   "source": [
    "sm.matches('qm', True, 3, False, True)"
   ]
  },
  {
   "cell_type": "code",
   "execution_count": 4,
   "metadata": {},
   "outputs": [
    {
     "name": "stderr",
     "output_type": "stream",
     "text": [
      "100%|█████████████████████████████████████████████████████| 24/24 [00:01<00:00, 21.58it/s]\n"
     ]
    },
    {
     "name": "stdout",
     "output_type": "stream",
     "text": [
      "(1856, 748)\n",
      "(1856,)\n"
     ]
    },
    {
     "name": "stderr",
     "output_type": "stream",
     "text": [
      "100%|█████████████████████████████████████████████████████| 12/12 [00:02<00:00,  4.59it/s]\n"
     ]
    },
    {
     "name": "stdout",
     "output_type": "stream",
     "text": [
      "0.9028925619834711\n",
      "0.9024686361796843\n",
      "0.8649204038159788\n",
      "\n",
      "0.71900826446281\n",
      "0.7096114519427403\n",
      "0.6465232649754646\n"
     ]
    }
   ],
   "source": [
    "sm.future_matches_pred(6, True, True, True)"
   ]
  },
  {
   "cell_type": "markdown",
   "metadata": {},
   "source": [
    "Unoptimized model\n",
    "------\n",
    "Accuracy score on training data: 0.8864\n",
    "Accuracy score on testing data: 0.8691\n",
    "F-score on testing data: 0.8872\n",
    "Average precision score on testing data: 0.8443\n",
    "\n",
    "Optimized Model\n",
    "------\n",
    "Final accuracy score on training data: 0.9378\n",
    "Final accuracy score on the testing data: 0.8997\n",
    "Final F-score on the testing data: 0.9166\n",
    "Final average precision score on testing data: 0.8807"
   ]
  },
  {
   "cell_type": "markdown",
   "metadata": {},
   "source": [
    "Unoptimized model\n",
    "------\n",
    "Accuracy score on training data: 0.8866\n",
    "Accuracy score on testing data: 0.8691\n",
    "F-score on testing data: 0.8872\n",
    "Average precision score on testing data: 0.8443\n",
    "\n",
    "Optimized Model\n",
    "------\n",
    "Final accuracy score on training data: 0.9312\n",
    "Final accuracy score on the testing data: 0.9039\n",
    "Final F-score on the testing data: 0.9175\n",
    "Final average precision score on testing data: 0.8832"
   ]
  },
  {
   "cell_type": "markdown",
   "metadata": {},
   "source": [
    "Unoptimized model\n",
    "------\n",
    "Accuracy score on training data: 0.8431\n",
    "Accuracy score on testing data: 0.8301\n",
    "F-score on testing data: 0.8567\n",
    "Average precision score on testing data: 0.8059\n",
    "\n",
    "Optimized Model\n",
    "------\n",
    "Final accuracy score on training data: 0.8734\n",
    "Final accuracy score on the testing data: 0.8329\n",
    "Final F-score on the testing data: 0.8616\n",
    "Final average precision score on testing data: 0.8107"
   ]
  },
  {
   "cell_type": "markdown",
   "metadata": {},
   "source": [
    "Unoptimized model\n",
    "------\n",
    "Accuracy score on training data: 0.8453\n",
    "Accuracy score on testing data: 0.8315\n",
    "F-score on testing data: 0.8576\n",
    "Average precision score on testing data: 0.8071\n",
    "\n",
    "Optimized Model\n",
    "------\n",
    "Final accuracy score on training data: 0.8817\n",
    "Final accuracy score on the testing data: 0.8343\n",
    "Final F-score on the testing data: 0.8625\n",
    "Final average precision score on testing data: 0.8119"
   ]
  }
 ],
 "metadata": {
  "kernelspec": {
   "display_name": "Python 3",
   "language": "python",
   "name": "python3"
  },
  "language_info": {
   "codemirror_mode": {
    "name": "ipython",
    "version": 3
   },
   "file_extension": ".py",
   "mimetype": "text/x-python",
   "name": "python",
   "nbconvert_exporter": "python",
   "pygments_lexer": "ipython3",
   "version": "3.6.4"
  }
 },
 "nbformat": 4,
 "nbformat_minor": 2
}
