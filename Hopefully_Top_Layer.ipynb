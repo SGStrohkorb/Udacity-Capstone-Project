{
 "cells": [
  {
   "cell_type": "code",
   "execution_count": 1,
   "metadata": {},
   "outputs": [],
   "source": [
    "import ipynb.fs.defs.Second_Model as fm\n",
    "import numpy as np\n",
    "\n",
    "%matplotlib inline"
   ]
  },
  {
   "cell_type": "code",
   "execution_count": null,
   "metadata": {},
   "outputs": [],
   "source": [
    "dir(fm)"
   ]
  },
  {
   "cell_type": "code",
   "execution_count": null,
   "metadata": {
    "scrolled": true
   },
   "outputs": [],
   "source": [
    "for i in range(2,100):\n",
    "    print(np.linspace(6, 15, i)[1], i)"
   ]
  },
  {
   "cell_type": "code",
   "execution_count": null,
   "metadata": {},
   "outputs": [],
   "source": [
    "C = np.linspace(6, 15, 21)\n",
    "C"
   ]
  },
  {
   "cell_type": "code",
   "execution_count": null,
   "metadata": {
    "scrolled": true
   },
   "outputs": [],
   "source": [
    "for i in range(2,100):\n",
    "    print(np.linspace(0.001, 0.5, i)[1], i)"
   ]
  },
  {
   "cell_type": "code",
   "execution_count": null,
   "metadata": {},
   "outputs": [],
   "source": [
    "g = np.linspace(0.001, 0.5, 33)\n",
    "g"
   ]
  },
  {
   "cell_type": "code",
   "execution_count": 5,
   "metadata": {
    "scrolled": true
   },
   "outputs": [
    {
     "name": "stderr",
     "output_type": "stream",
     "text": [
      "100%|███████████████████████████████████████████████████| 118/118 [00:07<00:00, 14.96it/s]\n"
     ]
    },
    {
     "name": "stdout",
     "output_type": "stream",
     "text": [
      "(9195, 736)\n",
      "(9195,)\n",
      "Training set has 7815 samples and 766 features.\n",
      "Testing set has 1380 samples and 766 features.\n",
      "Fitting 5 folds for each of 1 candidates, totalling 5 fits\n"
     ]
    },
    {
     "name": "stderr",
     "output_type": "stream",
     "text": [
      "[Parallel(n_jobs=8)]: Done   2 out of   5 | elapsed:  2.1min remaining:  3.1min\n",
      "[Parallel(n_jobs=8)]: Done   5 out of   5 | elapsed:  2.1min remaining:    0.0s\n",
      "[Parallel(n_jobs=8)]: Done   5 out of   5 | elapsed:  2.1min finished\n"
     ]
    },
    {
     "name": "stdout",
     "output_type": "stream",
     "text": [
      "SVC(C=10.95, cache_size=1000, class_weight=None, coef0=0.0,\n",
      "  decision_function_shape='ovr', degree=3, gamma=0.0035, kernel='rbf',\n",
      "  max_iter=-1, probability=False, random_state=42, shrinking=True,\n",
      "  tol=0.0001, verbose=False)\n",
      "\n",
      "Unoptimized model\n",
      "------\n",
      "Accuracy score on training data: 0.8445\n",
      "Accuracy score on testing data: 0.8217\n",
      "F-score on testing data: 0.8317\n",
      "Average precision score on testing data: 0.7783\n",
      "\n",
      "Optimized Model\n",
      "------\n",
      "Final accuracy score on training data: 0.8749\n",
      "Final accuracy score on the testing data: 0.8181\n",
      "Final F-score on the testing data: 0.8248\n",
      "Final average precision score on testing data: 0.7718\n",
      "\n",
      "                                 0\n",
      "Auto_None_a             -17.258877\n",
      "Auto_Reached_a            9.411049\n",
      "Auto_Crossed_a           18.033895\n",
      "Auto_None_stdev          14.913258\n",
      "Auto_Reached_stdev       20.732412\n",
      "Auto_Crossed_stdev      -13.630499\n",
      "Score_stdev              -4.656013\n",
      "DScore_stdev             -0.539182\n",
      "Auto_a                    4.269358\n",
      "Scale/Challenge_a        -3.493620\n",
      "Goals_a                  12.298056\n",
      "Defense_a                 8.881224\n",
      "OPR                      39.049728\n",
      "DPR                     -22.060482\n",
      "CCWM                     37.601346\n",
      "OAVE                      8.794357\n",
      "DAVE                     -2.147072\n",
      "CPR                      22.377601\n",
      "autoBoulderPoints_OAVE   17.514465\n",
      "autoBoulderPoints_CPR    14.930778\n",
      "autoBoulderPoints_DAVE  -11.620113\n",
      "autoBouldersHigh_OAVE    16.760864\n",
      "autoBouldersHigh_CPR     12.961263\n",
      "autoBouldersHigh_DAVE   -16.714463\n",
      "autoBouldersLow_OAVE      3.694853\n",
      "autoBouldersLow_CPR       8.455147\n",
      "autoBouldersLow_DAVE     18.002046\n",
      "autoCrossingPoints_OAVE  -6.927053\n",
      "autoCrossingPoints_CPR   10.967278\n",
      "autoCrossingPoints_DAVE  13.165862\n",
      "...                            ...\n",
      "grp0                    -25.312322\n",
      "grp1                     26.870206\n",
      "grp2                    -29.589567\n",
      "grp3                     10.134937\n",
      "grp4                     19.441077\n",
      "grp5                     20.700310\n",
      "grp6                    -15.821054\n",
      "grp7                    -21.533786\n",
      "grp8                     -5.517645\n",
      "grp9                     22.602827\n",
      "pca0                     23.214301\n",
      "pca1                     -0.205010\n",
      "pca2                     -6.486516\n",
      "pca3                     13.694596\n",
      "pca4                     10.156273\n",
      "pca5                     12.204532\n",
      "pca6                    -20.932346\n",
      "pca7                     -0.661486\n",
      "pca8                    -11.625981\n",
      "pca9                     49.878005\n",
      "pca10                   -24.974961\n",
      "pca11                   -79.902846\n",
      "pca12                     8.554549\n",
      "pca13                   -16.041033\n",
      "pca14                    11.855237\n",
      "pca15                    -9.925881\n",
      "pca16                    -5.135711\n",
      "pca17                   -12.457751\n",
      "pca18                    16.918489\n",
      "pca19                    13.687286\n",
      "\n",
      "[766 rows x 1 columns]\n",
      "                                           0\n",
      "pca9                               49.878005\n",
      "OPR_from_mean                      39.049728\n",
      "OPR                                39.049728\n",
      "CCWM                               37.601346\n",
      "CCWM_from_mean                     37.601346\n",
      "teleopPoints_OPR                   36.331759\n",
      "teleopPoints_OPR_from_mean         36.331759\n",
      "teleopBoulderPoints_OPR            35.266342\n",
      "teleopBoulderPoints_OPR_from_mean  35.266342\n",
      "autoPoints_OPR                     33.260481\n",
      "autoPoints_OPR_from_mean           33.260481\n",
      "teleopTowerCaptured_DPR_from_mean  31.255762\n",
      "teleopTowerCaptured_DPR            31.255762\n",
      "teleopBouldersLow_DAVE             30.353762\n",
      "teleopBouldersLow_DAVE_from_mean   30.353762\n",
      "\n",
      "                                             0\n",
      "pca11                               -79.902846\n",
      "towerEndStrength_DPR                -46.358741\n",
      "towerEndStrength_DPR_from_mean      -46.358741\n",
      "position5_B_Moat_DAVE               -30.202309\n",
      "position5_B_Moat_DAVE_from_mean     -30.202309\n",
      "grp2                                -29.589567\n",
      "towerFaceC_None_DPR                 -28.076272\n",
      "towerFaceC_None_DPR_from_mean       -28.076272\n",
      "position2_D_RockWall_DAVE           -27.646299\n",
      "position2_D_RockWall_DAVE_from_mean -27.646299\n",
      "position2_B_Ramparts_OPR_from_mean  -27.470712\n",
      "position2_B_Ramparts_OPR            -27.470712\n",
      "grp0                                -25.312322\n",
      "pca10                               -24.974961\n",
      "position4_C_SallyPort_DAVE          -24.125960\n"
     ]
    }
   ],
   "source": [
    "fm.matches('qm', False, 6, False, [10.95], [0.0035], 0)"
   ]
  },
  {
   "cell_type": "code",
   "execution_count": 2,
   "metadata": {},
   "outputs": [
    {
     "name": "stderr",
     "output_type": "stream",
     "text": [
      "100%|█████████████████████████████████████████████████████| 42/42 [00:02<00:00, 17.38it/s]\n"
     ]
    },
    {
     "name": "stdout",
     "output_type": "stream",
     "text": [
      "(3369, 748)\n",
      "(3369,)\n",
      "Fitting 5 folds for each of 1 candidates, totalling 5 fits\n"
     ]
    },
    {
     "name": "stderr",
     "output_type": "stream",
     "text": [
      "[Parallel(n_jobs=8)]: Done   2 out of   5 | elapsed:   20.4s remaining:   30.6s\n",
      "[Parallel(n_jobs=8)]: Done   5 out of   5 | elapsed:   22.3s remaining:    0.0s\n",
      "[Parallel(n_jobs=8)]: Done   5 out of   5 | elapsed:   22.3s finished\n",
      "100%|█████████████████████████████████████████████████████| 20/20 [00:04<00:00,  4.38it/s]\n"
     ]
    },
    {
     "name": "stdout",
     "output_type": "stream",
     "text": [
      "0.885593220338983\n",
      "0.89065497396547\n",
      "0.8492857271544767\n",
      "\n",
      "0.6984463276836158\n",
      "0.6992121553179516\n",
      "0.6397345586307183\n"
     ]
    }
   ],
   "source": [
    "fm.future_matches_pred(3)"
   ]
  },
  {
   "cell_type": "code",
   "execution_count": null,
   "metadata": {},
   "outputs": [],
   "source": []
  }
 ],
 "metadata": {
  "kernelspec": {
   "display_name": "Python 3",
   "language": "python",
   "name": "python3"
  },
  "language_info": {
   "codemirror_mode": {
    "name": "ipython",
    "version": 3
   },
   "file_extension": ".py",
   "mimetype": "text/x-python",
   "name": "python",
   "nbconvert_exporter": "python",
   "pygments_lexer": "ipython3",
   "version": "3.6.4"
  }
 },
 "nbformat": 4,
 "nbformat_minor": 2
}
