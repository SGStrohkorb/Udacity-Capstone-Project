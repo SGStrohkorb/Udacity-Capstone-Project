{
 "cells": [
  {
   "cell_type": "markdown",
   "metadata": {},
   "source": [
    "# Result Collection\n",
    "***"
   ]
  },
  {
   "cell_type": "markdown",
   "metadata": {},
   "source": [
    "## Introduction\n",
    "This jupyter notebook collects all of the data from the models. I was having issues running the different configurations of the models in for loops and had to split them into individual cells to get the plot to turn out right. The size of this file with all of the output ran is about 20MB, so it is kept clear to avoid taking up space."
   ]
  },
  {
   "cell_type": "code",
   "execution_count": null,
   "metadata": {},
   "outputs": [],
   "source": [
    "import ipynb.fs.defs.Model as model\n",
    "import matplotlib.pyplot as plt\n",
    "import visuals as v\n",
    "%matplotlib inline"
   ]
  },
  {
   "cell_type": "code",
   "execution_count": null,
   "metadata": {},
   "outputs": [],
   "source": [
    "import matplotlib as mpl\n",
    "#mpl.rcParams['figure.dpi'] = 100\n",
    "#mpl.rcParams.update({'font.size': 12})"
   ]
  },
  {
   "cell_type": "code",
   "execution_count": null,
   "metadata": {},
   "outputs": [],
   "source": [
    "from nice_plots import init_nice_plots #Plots plots nicely\n",
    "init_nice_plots(mpl)"
   ]
  },
  {
   "cell_type": "code",
   "execution_count": null,
   "metadata": {
    "scrolled": false
   },
   "outputs": [],
   "source": [
    "X, y = model.get_match_data(week=1, with_rs=True)"
   ]
  },
  {
   "cell_type": "code",
   "execution_count": null,
   "metadata": {},
   "outputs": [],
   "source": [
    "with_rs = True"
   ]
  },
  {
   "cell_type": "code",
   "execution_count": null,
   "metadata": {},
   "outputs": [],
   "source": [
    "week = 2\n",
    "data = model.future_matches_GNB(week, with_rs, num_pca=5)\n",
    "data[8].to_csv('results/GaussianNB_Results_Week_'+str(week)+\"_With_RS_\"+str(\"True\" if with_rs else \"False\")+\".csv\")\n",
    "v.GNB_predictions(data, mpl, plt, week, with_rs)"
   ]
  },
  {
   "cell_type": "code",
   "execution_count": null,
   "metadata": {},
   "outputs": [],
   "source": [
    "week = 3\n",
    "data = model.future_matches_GNB(week, with_rs, num_pca=5)\n",
    "data[8].to_csv('results/GaussianNB_Results_Week_'+str(week)+\"_With_RS_\"+str(\"True\" if with_rs else \"False\")+\".csv\")\n",
    "v.GNB_predictions(data, mpl, plt, week, with_rs)"
   ]
  },
  {
   "cell_type": "code",
   "execution_count": null,
   "metadata": {
    "scrolled": true
   },
   "outputs": [],
   "source": [
    "week = 4\n",
    "data = model.future_matches_GNB(week, with_rs, num_pca=5)\n",
    "data[8].to_csv('results/GaussianNB_Results_Week_'+str(week)+\"_With_RS_\"+str(\"True\" if with_rs else \"False\")+\".csv\")\n",
    "v.GNB_predictions(data, mpl, plt, week, with_rs)"
   ]
  },
  {
   "cell_type": "code",
   "execution_count": null,
   "metadata": {},
   "outputs": [],
   "source": [
    "week = 5\n",
    "data = model.future_matches_GNB(week, with_rs, num_pca=5)\n",
    "data[8].to_csv('results/GaussianNB_Results_Week_'+str(week)+\"_With_RS_\"+str(\"True\" if with_rs else \"False\")+\".csv\")\n",
    "v.GNB_predictions(data, mpl, plt, week, with_rs)"
   ]
  },
  {
   "cell_type": "code",
   "execution_count": null,
   "metadata": {},
   "outputs": [],
   "source": [
    "week = 6\n",
    "data = model.future_matches_GNB(week, with_rs, num_pca=5)\n",
    "data[8].to_csv('results/GaussianNB_Results_Week_'+str(week)+\"_With_RS_\"+str(\"True\" if with_rs else \"False\")+\".csv\")\n",
    "v.GNB_predictions(data, mpl, plt, week, with_rs)"
   ]
  },
  {
   "cell_type": "code",
   "execution_count": null,
   "metadata": {},
   "outputs": [],
   "source": [
    "with_rs = False"
   ]
  },
  {
   "cell_type": "code",
   "execution_count": null,
   "metadata": {},
   "outputs": [],
   "source": [
    "week = 2\n",
    "data = model.future_matches_GNB(week, with_rs, num_pca=5)\n",
    "data[8].to_csv('results/GaussianNB_Results_Week_'+str(week)+\"_With_RS_\"+str(\"True\" if with_rs else \"False\")+\".csv\")\n",
    "v.GNB_predictions(data, mpl, plt, week, with_rs)"
   ]
  },
  {
   "cell_type": "code",
   "execution_count": null,
   "metadata": {},
   "outputs": [],
   "source": [
    "week = 3\n",
    "data = model.future_matches_GNB(week, with_rs, num_pca=5)\n",
    "data[8].to_csv('results/GaussianNB_Results_Week_'+str(week)+\"_With_RS_\"+str(\"True\" if with_rs else \"False\")+\".csv\")\n",
    "v.GNB_predictions(data, mpl, plt, week, with_rs)"
   ]
  },
  {
   "cell_type": "code",
   "execution_count": null,
   "metadata": {},
   "outputs": [],
   "source": [
    "week = 4\n",
    "data = model.future_matches_GNB(week, with_rs, num_pca=5)\n",
    "data[8].to_csv('results/GaussianNB_Results_Week_'+str(week)+\"_With_RS_\"+str(\"True\" if with_rs else \"False\")+\".csv\")\n",
    "v.GNB_predictions(data, mpl, plt, week, with_rs)"
   ]
  },
  {
   "cell_type": "code",
   "execution_count": null,
   "metadata": {},
   "outputs": [],
   "source": [
    "week = 5\n",
    "data = model.future_matches_GNB(week, with_rs, num_pca=5)\n",
    "data[8].to_csv('results/GaussianNB_Results_Week_'+str(week)+\"_With_RS_\"+str(\"True\" if with_rs else \"False\")+\".csv\")\n",
    "v.GNB_predictions(data, mpl, plt, week, with_rs)"
   ]
  },
  {
   "cell_type": "code",
   "execution_count": null,
   "metadata": {},
   "outputs": [],
   "source": [
    "week = 6\n",
    "data = model.future_matches_GNB(week, with_rs, num_pca=5)\n",
    "data[8].to_csv('results/GaussianNB_Results_Week_'+str(week)+\"_With_RS_\"+str(\"True\" if with_rs else \"False\")+\".csv\")\n",
    "v.GNB_predictions(data, mpl, plt, week, with_rs)"
   ]
  },
  {
   "cell_type": "code",
   "execution_count": null,
   "metadata": {},
   "outputs": [],
   "source": []
  },
  {
   "cell_type": "code",
   "execution_count": null,
   "metadata": {},
   "outputs": [],
   "source": [
    "with_rs = True\n",
    "if with_rs:\n",
    "    columns = X.columns.values\n",
    "else:\n",
    "    X_tmp = X.drop(['Ranking_Score_a', 'tba_rpEarned_OAVE', 'tba_rpEarned_CPR', 'tba_rpEarned_OPR', 'tba_rpEarned_DAVE', 'tba_rpEarned_DPR'], axis=1)\n",
    "    columns = X_tmp.columns.values"
   ]
  },
  {
   "cell_type": "code",
   "execution_count": null,
   "metadata": {},
   "outputs": [],
   "source": [
    "week = 2\n",
    "data = model.future_matches_XGB(week, with_rs)\n",
    "data[9].to_csv('results/XGB_Results_Week'+str(week)+\"_With_RS_\"+str(\"True\" if with_rs else \"False\")+\".csv\")\n",
    "v.XGB_predictions(data, mpl, plt, week, with_rs)\n",
    "from pandas import DataFrame\n",
    "features = DataFrame(data[8].feature_importances_.reshape(-1,1,).T, columns=columns).sort_values(by=[0], axis=1, ascending=False)\n",
    "features.transpose().to_csv('results/XGB_Features_Week_'+str(week)+\"_With_RS_\"+str(\"True\" if with_rs else \"False\")+\".csv\")"
   ]
  },
  {
   "cell_type": "code",
   "execution_count": null,
   "metadata": {},
   "outputs": [],
   "source": [
    "week = 3\n",
    "data = model.future_matches_XGB(week, with_rs)\n",
    "data[9].to_csv('results/XGB_Results_Week'+str(week)+\"_With_RS_\"+str(\"True\" if with_rs else \"False\")+\".csv\")\n",
    "v.XGB_predictions(data, mpl, plt, week, with_rs)\n",
    "from pandas import DataFrame\n",
    "features = DataFrame(data[8].feature_importances_.reshape(-1,1,).T, columns=columns).sort_values(by=[0], axis=1, ascending=False)\n",
    "features.transpose().to_csv('results/XGB_Features_Week_'+str(week)+\"_With_RS_\"+str(\"True\" if with_rs else \"False\")+\".csv\")"
   ]
  },
  {
   "cell_type": "code",
   "execution_count": null,
   "metadata": {},
   "outputs": [],
   "source": [
    "week = 4\n",
    "data = model.future_matches_XGB(week, with_rs)\n",
    "data[9].to_csv('results/XGB_Results_Week'+str(week)+\"_With_RS_\"+str(\"True\" if with_rs else \"False\")+\".csv\")\n",
    "v.XGB_predictions(data, mpl, plt, week, with_rs)\n",
    "from pandas import DataFrame\n",
    "features = DataFrame(data[8].feature_importances_.reshape(-1,1,).T, columns=columns).sort_values(by=[0], axis=1, ascending=False)\n",
    "features.transpose().to_csv('results/XGB_Features_Week_'+str(week)+\"_With_RS_\"+str(\"True\" if with_rs else \"False\")+\".csv\")"
   ]
  },
  {
   "cell_type": "code",
   "execution_count": null,
   "metadata": {},
   "outputs": [],
   "source": [
    "week = 5\n",
    "data = model.future_matches_XGB(week, with_rs)\n",
    "data[9].to_csv('results/XGB_Results_Week'+str(week)+\"_With_RS_\"+str(\"True\" if with_rs else \"False\")+\".csv\")\n",
    "v.XGB_predictions(data, mpl, plt, week, with_rs)\n",
    "from pandas import DataFrame\n",
    "features = DataFrame(data[8].feature_importances_.reshape(-1,1,).T, columns=columns).sort_values(by=[0], axis=1, ascending=False)\n",
    "features.transpose().to_csv('results/XGB_Features_Week_'+str(week)+\"_With_RS_\"+str(\"True\" if with_rs else \"False\")+\".csv\")"
   ]
  },
  {
   "cell_type": "code",
   "execution_count": null,
   "metadata": {},
   "outputs": [],
   "source": [
    "week = 6\n",
    "data = model.future_matches_XGB(week, with_rs)\n",
    "data[9].to_csv('results/XGB_Results_Week'+str(week)+\"_With_RS_\"+str(\"True\" if with_rs else \"False\")+\".csv\")\n",
    "v.XGB_predictions(data, mpl, plt, week, with_rs)\n",
    "from pandas import DataFrame\n",
    "features = DataFrame(data[8].feature_importances_.reshape(-1,1,).T, columns=columns).sort_values(by=[0], axis=1, ascending=False)\n",
    "features.transpose().to_csv('results/XGB_Features_Week_'+str(week)+\"_With_RS_\"+str(\"True\" if with_rs else \"False\")+\".csv\")"
   ]
  },
  {
   "cell_type": "code",
   "execution_count": null,
   "metadata": {},
   "outputs": [],
   "source": [
    "with_rs = False\n",
    "if with_rs:\n",
    "    columns = X.columns.values\n",
    "else:\n",
    "    X_tmp = X.drop(['Ranking_Score_a', 'tba_rpEarned_OAVE', 'tba_rpEarned_CPR', 'tba_rpEarned_OPR', 'tba_rpEarned_DAVE', 'tba_rpEarned_DPR'], axis=1)\n",
    "    columns = X_tmp.columns.values"
   ]
  },
  {
   "cell_type": "code",
   "execution_count": null,
   "metadata": {},
   "outputs": [],
   "source": [
    "week = 2\n",
    "data = model.future_matches_XGB(week, with_rs)\n",
    "data[9].to_csv('results/XGB_Results_Week'+str(week)+\"_With_RS_\"+str(\"True\" if with_rs else \"False\")+\".csv\")\n",
    "v.XGB_predictions(data, mpl, plt, week, with_rs)\n",
    "from pandas import DataFrame\n",
    "features = DataFrame(data[8].feature_importances_.reshape(-1,1,).T, columns=columns).sort_values(by=[0], axis=1, ascending=False)\n",
    "features.transpose().to_csv('results/XGB_Features_Week_'+str(week)+\"_With_RS_\"+str(\"True\" if with_rs else \"False\")+\".csv\")"
   ]
  },
  {
   "cell_type": "code",
   "execution_count": null,
   "metadata": {},
   "outputs": [],
   "source": [
    "week = 3\n",
    "data = model.future_matches_XGB(week, with_rs)\n",
    "data[9].to_csv('results/XGB_Results_Week'+str(week)+\"_With_RS_\"+str(\"True\" if with_rs else \"False\")+\".csv\")\n",
    "v.XGB_predictions(data, mpl, plt, week, with_rs)\n",
    "from pandas import DataFrame\n",
    "features = DataFrame(data[8].feature_importances_.reshape(-1,1,).T, columns=columns).sort_values(by=[0], axis=1, ascending=False)\n",
    "features.transpose().to_csv('results/XGB_Features_Week_'+str(week)+\"_With_RS_\"+str(\"True\" if with_rs else \"False\")+\".csv\")"
   ]
  },
  {
   "cell_type": "code",
   "execution_count": null,
   "metadata": {},
   "outputs": [],
   "source": [
    "week = 4\n",
    "data = model.future_matches_XGB(week, with_rs)\n",
    "data[9].to_csv('results/XGB_Results_Week'+str(week)+\"_With_RS_\"+str(\"True\" if with_rs else \"False\")+\".csv\")\n",
    "v.XGB_predictions(data, mpl, plt, week, with_rs)\n",
    "from pandas import DataFrame\n",
    "features = DataFrame(data[8].feature_importances_.reshape(-1,1,).T, columns=columns).sort_values(by=[0], axis=1, ascending=False)\n",
    "features.transpose().to_csv('results/XGB_Features_Week_'+str(week)+\"_With_RS_\"+str(\"True\" if with_rs else \"False\")+\".csv\")"
   ]
  },
  {
   "cell_type": "code",
   "execution_count": null,
   "metadata": {},
   "outputs": [],
   "source": [
    "week = 5\n",
    "data = model.future_matches_XGB(week, with_rs)\n",
    "data[9].to_csv('results/XGB_Results_Week'+str(week)+\"_With_RS_\"+str(\"True\" if with_rs else \"False\")+\".csv\")\n",
    "v.XGB_predictions(data, mpl, plt, week, with_rs)\n",
    "from pandas import DataFrame\n",
    "features = DataFrame(data[8].feature_importances_.reshape(-1,1,).T, columns=columns).sort_values(by=[0], axis=1, ascending=False)\n",
    "features.transpose().to_csv('results/XGB_Features_Week_'+str(week)+\"_With_RS_\"+str(\"True\" if with_rs else \"False\")+\".csv\")"
   ]
  },
  {
   "cell_type": "code",
   "execution_count": null,
   "metadata": {},
   "outputs": [],
   "source": [
    "week = 6\n",
    "data = model.future_matches_XGB(week, with_rs)\n",
    "data[9].to_csv('results/XGB_Results_Week'+str(week)+\"_With_RS_\"+str(\"True\" if with_rs else \"False\")+\".csv\")\n",
    "v.XGB_predictions(data, mpl, plt, week, with_rs)\n",
    "from pandas import DataFrame\n",
    "features = DataFrame(data[8].feature_importances_.reshape(-1,1,).T, columns=columns).sort_values(by=[0], axis=1, ascending=False)\n",
    "features.transpose().to_csv('results/XGB_Features_Week_'+str(week)+\"_With_RS_\"+str(\"True\" if with_rs else \"False\")+\".csv\")"
   ]
  },
  {
   "cell_type": "code",
   "execution_count": null,
   "metadata": {},
   "outputs": [],
   "source": []
  }
 ],
 "metadata": {
  "kernelspec": {
   "display_name": "Python 3",
   "language": "python",
   "name": "python3"
  },
  "language_info": {
   "codemirror_mode": {
    "name": "ipython",
    "version": 3
   },
   "file_extension": ".py",
   "mimetype": "text/x-python",
   "name": "python",
   "nbconvert_exporter": "python",
   "pygments_lexer": "ipython3",
   "version": "3.6.4"
  }
 },
 "nbformat": 4,
 "nbformat_minor": 2
}
